{
 "cells": [
  {
   "cell_type": "code",
   "execution_count": 17,
   "metadata": {},
   "outputs": [],
   "source": [
    "import torch\n",
    "import torchaudio\n",
    "import torch.nn as nn\n",
    "import torch.nn.functional as F\n",
    "import torchaudio.functional as AF\n",
    "import numpy as np\n",
    "import torch\n",
    "from torch.nn import Module, Parameter\n",
    "from torch import FloatTensor\n",
    "from scipy import signal\n",
    "import numpy as np\n",
    "from torchaudio import transforms\n",
    "import matplotlib.pyplot as plt\n",
    "import IPython.display as ipd\n",
    "from torch.utils.data import DataLoader\n",
    "from torch.utils.data import Dataset\n",
    "import os\n",
    "from scipy import signal\n",
    "from torchaudio.functional import lfilter\n"
   ]
  },
  {
   "cell_type": "code",
   "execution_count": 18,
   "metadata": {},
   "outputs": [
    {
     "name": "stdout",
     "output_type": "stream",
     "text": [
      "device= cpu\n"
     ]
    }
   ],
   "source": [
    "# Device configuration\n",
    "device = torch.device('cuda' if torch.cuda.is_available() else 'cpu')\n",
    "print(\"device=\", device) "
   ]
  },
  {
   "cell_type": "code",
   "execution_count": 19,
   "metadata": {},
   "outputs": [
    {
     "name": "stdout",
     "output_type": "stream",
     "text": [
      "44100\n"
     ]
    }
   ],
   "source": [
    "train_data_dir = './data/train'\n",
    "val_data_dir = './data/val'\n",
    "input_name = 'ht1-input.wav'\n",
    "target_name = 'ht1-target.wav'\n",
    "train_sig, _ = torchaudio.load(os.path.join(train_data_dir, input_name))\n",
    "val_sig, sr = torchaudio.load(os.path.join(val_data_dir, input_name))\n",
    "train_target_sig, _ = torchaudio.load(os.path.join(train_data_dir, target_name))\n",
    "val_target_sig, _ = torchaudio.load(os.path.join(val_data_dir, target_name))\n",
    "print(sr)"
   ]
  },
  {
   "cell_type": "code",
   "execution_count": 20,
   "metadata": {},
   "outputs": [],
   "source": [
    "train_input_seg = train_sig[:,:44100*60]\n",
    "train_target_seg = train_target_sig[:,:44100*60]"
   ]
  },
  {
   "cell_type": "markdown",
   "metadata": {},
   "source": [
    "# For Reproducibility"
   ]
  },
  {
   "cell_type": "code",
   "execution_count": 21,
   "metadata": {},
   "outputs": [
    {
     "data": {
      "text/plain": [
       "<torch._C.Generator at 0x2b6f9d104250>"
      ]
     },
     "execution_count": 21,
     "metadata": {},
     "output_type": "execute_result"
    }
   ],
   "source": [
    "torch.manual_seed(0)"
   ]
  },
  {
   "cell_type": "markdown",
   "metadata": {},
   "source": [
    "## Initialize Dataloader"
   ]
  },
  {
   "cell_type": "code",
   "execution_count": 22,
   "metadata": {},
   "outputs": [],
   "source": [
    "class DIIRDataSet(Dataset):\n",
    "    def __init__(self, input, target, sequence_length):\n",
    "        self.input = input\n",
    "        self.target = target\n",
    "        self._sequence_length = sequence_length\n",
    "        self.input_sequence = self.wrap_to_sequences(self.input, self._sequence_length)\n",
    "        self.target_sequence = self.wrap_to_sequences(self.target, self._sequence_length)\n",
    "        self._len = self.input_sequence.shape[0]\n",
    "\n",
    "    def __len__(self):\n",
    "        return self._len\n",
    "\n",
    "    def __getitem__(self, index):\n",
    "        return {'input': self.input_sequence[index, :, :]\n",
    "               ,'target': self.target_sequence[index, :, :]}\n",
    "\n",
    "    def wrap_to_sequences(self, data, sequence_length):\n",
    "        num_sequences = int(np.floor(data.shape[0] / sequence_length))\n",
    "        print(num_sequences)\n",
    "        truncated_data = data[0:(num_sequences * sequence_length)]\n",
    "        wrapped_data = truncated_data.reshape((num_sequences, sequence_length, 1))\n",
    "        wrapped_data = wrapped_data.permute(0,2,1)\n",
    "        print(wrapped_data.shape)\n",
    "        return np.float32(wrapped_data)\n"
   ]
  },
  {
   "cell_type": "code",
   "execution_count": 23,
   "metadata": {},
   "outputs": [],
   "source": [
    "train_input = train_input_seg#hp_train_sig#[:,:44100*60]\n",
    "train_target = train_target_seg#[:,:44100*60]"
   ]
  },
  {
   "cell_type": "code",
   "execution_count": 24,
   "metadata": {},
   "outputs": [
    {
     "data": {
      "text/plain": [
       "torch.Size([2646000])"
      ]
     },
     "execution_count": 24,
     "metadata": {},
     "output_type": "execute_result"
    }
   ],
   "source": [
    "train_input.squeeze(0).shape"
   ]
  },
  {
   "cell_type": "code",
   "execution_count": 25,
   "metadata": {},
   "outputs": [
    {
     "name": "stdout",
     "output_type": "stream",
     "text": [
      "5167\n",
      "torch.Size([5167, 1, 512])\n",
      "5167\n",
      "torch.Size([5167, 1, 512])\n"
     ]
    }
   ],
   "source": [
    "batch_size = 512#1024\n",
    "sequence_length = 512\n",
    "train_dataset=DIIRDataSet(train_input.squeeze(0), train_target.squeeze(0), sequence_length)\n",
    "loader = DataLoader(train_dataset, batch_size=batch_size, shuffle = False, pin_memory=True, drop_last=True) #? what does the shuffle really shuffles here?"
   ]
  },
  {
   "cell_type": "code",
   "execution_count": 26,
   "metadata": {},
   "outputs": [
    {
     "data": {
      "text/plain": [
       "10"
      ]
     },
     "execution_count": 26,
     "metadata": {},
     "output_type": "execute_result"
    }
   ],
   "source": [
    "len(loader)"
   ]
  },
  {
   "cell_type": "markdown",
   "metadata": {},
   "source": [
    "# Declare Model"
   ]
  },
  {
   "cell_type": "code",
   "execution_count": 27,
   "metadata": {},
   "outputs": [],
   "source": [
    "class FIRNN(Module):\n",
    "    def __init__(self, n_input=1, n_output=1, kernel_size=80, n_channel=32):\n",
    "        super(FIRNN, self).__init__()        \n",
    "        self.conv_kz = kernel_size\n",
    "        self.input_len = 512\n",
    "        self.conv1 = nn.Conv1d(n_input, n_channel, kernel_size=kernel_size, stride=1)\n",
    "        self.nonlinear = nn.Tanh()\n",
    "        self.bn1 = nn.BatchNorm1d(n_channel)\n",
    "\n",
    "        self.fc1 = nn.Conv1d(n_channel, n_channel*2, kernel_size=1) \n",
    "        self.fc2 = nn.Conv1d(n_channel*2, n_channel, kernel_size=1)\n",
    "        \n",
    "        self.conv2 = nn.Conv1d(n_channel, n_output, kernel_size=kernel_size, stride=1)\n",
    "        \n",
    "        self.mlp_layer = nn.Sequential(\n",
    "            self.fc1 ,\n",
    "            nn.Tanh(),\n",
    "            self.fc2,\n",
    "        )\n",
    "\n",
    "\n",
    "    def forward(self, x):\n",
    "        #print(x.shape)\n",
    "        bs = x.shape[0]\n",
    "        \n",
    "        x = F.pad(x, (self.conv_kz-1, 0)) #pad on the left side\n",
    "        x = self.conv1(x) \n",
    "        #print(x.shape)\n",
    "        x = self.nonlinear(self.bn1(x))\n",
    "        #print(x.shape)\n",
    "\n",
    "        #x = x.view(bs, -1)\n",
    "        x = self.mlp_layer(x)\n",
    "        #x = self.layers(x)\n",
    "        #print(x.shape)\n",
    "        \n",
    "        x = F.pad(x, (self.conv_kz-1, 0))\n",
    "        x = self.conv2(x)\n",
    "        #print(x.shape)\n",
    "\n",
    "        return x\n"
   ]
  },
  {
   "cell_type": "code",
   "execution_count": 28,
   "metadata": {},
   "outputs": [],
   "source": [
    "model = FIRNN(kernel_size=80, n_channel=32)"
   ]
  },
  {
   "cell_type": "markdown",
   "metadata": {},
   "source": [
    "## Define optimizer and criterion"
   ]
  },
  {
   "cell_type": "code",
   "execution_count": 29,
   "metadata": {},
   "outputs": [],
   "source": [
    "import torch.nn as nn\n",
    "from torch.optim import Adam\n",
    "\n",
    "n_epochs = 100\n",
    "lr = 1e-3\n",
    "\n",
    "optimizer = Adam(model.parameters(), lr=lr, betas=(0.9, 0.999), eps=1e-08, weight_decay=0, amsgrad=False)\n",
    "\n",
    "criterion = nn.MSELoss()"
   ]
  },
  {
   "cell_type": "markdown",
   "metadata": {},
   "source": [
    "# Define train loop"
   ]
  },
  {
   "cell_type": "code",
   "execution_count": 30,
   "metadata": {},
   "outputs": [],
   "source": [
    "def train(criterion, model, loader, optimizer):\n",
    "    model.train()\n",
    "    device = next(model.parameters()).device\n",
    "    total_loss = 0\n",
    "    \n",
    "    for ind, batch in enumerate(loader):\n",
    "        input_seq_batch = batch['input'].to(device)\n",
    "        target_seq_batch = batch['target'].to(device)\n",
    "        optimizer.zero_grad()\n",
    "        predicted_output = model(input_seq_batch)\n",
    "        \n",
    "        # premphasis filter\n",
    "        target_seq_batch_filt = lfilter(target_seq_batch, torch.Tensor([1,0]), torch.Tensor([1, -0.95]))\n",
    "        predicted_output_filt = lfilter(predicted_output, torch.Tensor([1,0]), torch.Tensor([1, -0.95]))\n",
    "        \n",
    "        loss = criterion(target_seq_batch_filt, predicted_output_filt)\n",
    "        loss.backward()\n",
    "        optimizer.step()\n",
    "        total_loss += loss.item()\n",
    "\n",
    "    total_loss /= len(loader)\n",
    "    return total_loss"
   ]
  },
  {
   "cell_type": "markdown",
   "metadata": {},
   "source": [
    "## Train!"
   ]
  },
  {
   "cell_type": "code",
   "execution_count": 31,
   "metadata": {},
   "outputs": [
    {
     "name": "stdout",
     "output_type": "stream",
     "text": [
      "Epoch 0 -- Loss 5.475739E-03\n",
      "Epoch 1 -- Loss 5.264202E-03\n",
      "Epoch 2 -- Loss 5.132891E-03\n",
      "Epoch 3 -- Loss 5.000755E-03\n",
      "Epoch 4 -- Loss 4.896897E-03\n",
      "Epoch 5 -- Loss 4.773302E-03\n",
      "Epoch 6 -- Loss 4.665144E-03\n",
      "Epoch 7 -- Loss 4.605056E-03\n",
      "Epoch 8 -- Loss 4.590864E-03\n",
      "Epoch 9 -- Loss 4.503685E-03\n",
      "Epoch 10 -- Loss 4.386324E-03\n",
      "Epoch 11 -- Loss 4.332494E-03\n",
      "Epoch 12 -- Loss 4.271544E-03\n",
      "Epoch 13 -- Loss 4.118274E-03\n",
      "Epoch 14 -- Loss 4.129940E-03\n",
      "Epoch 15 -- Loss 4.097620E-03\n",
      "Epoch 16 -- Loss 3.967739E-03\n",
      "Epoch 17 -- Loss 3.879918E-03\n",
      "Epoch 18 -- Loss 3.721546E-03\n",
      "Epoch 19 -- Loss 3.643086E-03\n",
      "Epoch 20 -- Loss 3.576216E-03\n",
      "Epoch 21 -- Loss 3.519720E-03\n",
      "Epoch 22 -- Loss 3.482305E-03\n",
      "Epoch 23 -- Loss 3.430185E-03\n",
      "Epoch 24 -- Loss 3.417377E-03\n",
      "Epoch 25 -- Loss 3.380739E-03\n",
      "Epoch 26 -- Loss 3.365049E-03\n",
      "Epoch 27 -- Loss 3.286150E-03\n",
      "Epoch 28 -- Loss 3.297688E-03\n",
      "Epoch 29 -- Loss 3.276946E-03\n",
      "Epoch 30 -- Loss 3.243048E-03\n",
      "Epoch 31 -- Loss 3.202596E-03\n",
      "Epoch 32 -- Loss 3.207911E-03\n",
      "Epoch 33 -- Loss 3.134848E-03\n",
      "Epoch 34 -- Loss 3.137071E-03\n",
      "Epoch 35 -- Loss 3.164504E-03\n",
      "Epoch 36 -- Loss 3.104729E-03\n",
      "Epoch 37 -- Loss 3.098425E-03\n",
      "Epoch 38 -- Loss 3.099535E-03\n",
      "Epoch 39 -- Loss 3.097090E-03\n",
      "Epoch 40 -- Loss 3.039604E-03\n",
      "Epoch 41 -- Loss 3.053111E-03\n",
      "Epoch 42 -- Loss 3.057020E-03\n",
      "Epoch 43 -- Loss 3.026861E-03\n",
      "Epoch 44 -- Loss 2.996339E-03\n",
      "Epoch 45 -- Loss 3.006736E-03\n",
      "Epoch 46 -- Loss 3.010327E-03\n",
      "Epoch 47 -- Loss 2.956978E-03\n",
      "Epoch 48 -- Loss 2.960579E-03\n",
      "Epoch 49 -- Loss 3.020327E-03\n",
      "Epoch 50 -- Loss 2.929488E-03\n",
      "Epoch 51 -- Loss 2.928052E-03\n",
      "Epoch 52 -- Loss 3.078065E-03\n",
      "Epoch 53 -- Loss 2.960886E-03\n",
      "Epoch 54 -- Loss 3.052624E-03\n",
      "Epoch 55 -- Loss 2.915429E-03\n",
      "Epoch 56 -- Loss 2.918185E-03\n",
      "Epoch 57 -- Loss 2.902213E-03\n",
      "Epoch 58 -- Loss 2.909862E-03\n",
      "Epoch 59 -- Loss 2.868072E-03\n",
      "Epoch 60 -- Loss 2.840843E-03\n",
      "Epoch 61 -- Loss 2.818199E-03\n",
      "Epoch 62 -- Loss 2.850285E-03\n",
      "Epoch 63 -- Loss 2.860051E-03\n",
      "Epoch 64 -- Loss 2.840307E-03\n",
      "Epoch 65 -- Loss 2.835101E-03\n",
      "Epoch 66 -- Loss 2.824562E-03\n",
      "Epoch 67 -- Loss 2.789035E-03\n",
      "Epoch 68 -- Loss 2.769204E-03\n",
      "Epoch 69 -- Loss 2.771070E-03\n",
      "Epoch 70 -- Loss 2.801004E-03\n",
      "Epoch 71 -- Loss 2.787836E-03\n",
      "Epoch 72 -- Loss 2.778980E-03\n",
      "Epoch 73 -- Loss 2.770449E-03\n",
      "Epoch 74 -- Loss 2.765044E-03\n",
      "Epoch 75 -- Loss 2.768841E-03\n",
      "Epoch 76 -- Loss 2.737294E-03\n",
      "Epoch 77 -- Loss 2.717355E-03\n",
      "Epoch 78 -- Loss 2.756176E-03\n",
      "Epoch 79 -- Loss 2.778122E-03\n",
      "Epoch 80 -- Loss 2.739397E-03\n",
      "Epoch 81 -- Loss 2.741292E-03\n",
      "Epoch 82 -- Loss 2.764406E-03\n",
      "Epoch 83 -- Loss 2.710500E-03\n",
      "Epoch 84 -- Loss 2.696762E-03\n",
      "Epoch 85 -- Loss 2.725424E-03\n",
      "Epoch 86 -- Loss 2.774887E-03\n",
      "Epoch 87 -- Loss 2.726041E-03\n",
      "Epoch 88 -- Loss 2.750375E-03\n",
      "Epoch 89 -- Loss 2.692866E-03\n",
      "Epoch 90 -- Loss 2.705846E-03\n",
      "Epoch 91 -- Loss 2.719004E-03\n",
      "Epoch 92 -- Loss 2.704359E-03\n",
      "Epoch 93 -- Loss 2.714151E-03\n",
      "Epoch 94 -- Loss 2.809269E-03\n",
      "Epoch 95 -- Loss 2.702218E-03\n",
      "Epoch 96 -- Loss 2.813831E-03\n",
      "Epoch 97 -- Loss 2.695409E-03\n",
      "Epoch 98 -- Loss 2.715112E-03\n",
      "Epoch 99 -- Loss 2.663695E-03\n",
      "model saved!\n"
     ]
    }
   ],
   "source": [
    "for epoch in range(n_epochs):\n",
    "    loss = train(criterion, model, loader, optimizer)\n",
    "    print(\"Epoch {} -- Loss {:3E}\".format(epoch, loss))\n",
    "\n",
    "save_path = os.path.join('./models/model_firnl_mlp_fir_preamph_ep{}.pth'.format(n_epochs-1))\n",
    "torch.save(model.state_dict(), save_path)\n",
    "print(\"model saved!\")"
   ]
  },
  {
   "cell_type": "markdown",
   "metadata": {},
   "source": [
    "# Evaluate"
   ]
  },
  {
   "cell_type": "code",
   "execution_count": 32,
   "metadata": {},
   "outputs": [
    {
     "name": "stdout",
     "output_type": "stream",
     "text": [
      "5167\n",
      "torch.Size([5167, 1, 512])\n",
      "5167\n",
      "torch.Size([5167, 1, 512])\n"
     ]
    }
   ],
   "source": [
    "#val_batch_size = 128\n",
    "sequence_length = 512\n",
    "val_dataset=DIIRDataSet(train_input.squeeze(0), train_target.squeeze(0), sequence_length)\n",
    "val_loader = DataLoader(val_dataset, batch_size=1, shuffle = False, pin_memory=True, drop_last=True)"
   ]
  },
  {
   "cell_type": "code",
   "execution_count": 33,
   "metadata": {},
   "outputs": [],
   "source": [
    "def inspect_file(path):\n",
    "    print(\"-\" * 10)\n",
    "    print(\"Source:\", path)\n",
    "    print(\"-\" * 10)\n",
    "    print(f\" - File size: {os.path.getsize(path)} bytes\")\n",
    "    print(f\" - {torchaudio.info(path)}\")"
   ]
  },
  {
   "cell_type": "code",
   "execution_count": 34,
   "metadata": {},
   "outputs": [],
   "source": [
    "def save_audio(batch):\n",
    "    #1024,512,1\n",
    "    out_batch = batch.detach().cpu()\n",
    "    out_batch = out_batch.squeeze(-1).flatten()\n",
    "    print(out_batch.shape)\n",
    "    return out_batch"
   ]
  },
  {
   "cell_type": "code",
   "execution_count": 35,
   "metadata": {},
   "outputs": [
    {
     "name": "stdout",
     "output_type": "stream",
     "text": [
      "torch.Size([5167, 512])\n",
      "torch.Size([2645504])\n",
      "torch.Size([2645504])\n",
      "Exporting ./output/target_firnl_mlp_fir_preamph.wav\n",
      "----------\n",
      "Source: ./output/target_firnl_mlp_fir_preamph.wav\n",
      "----------\n",
      " - File size: 7936556 bytes\n",
      " - AudioMetaData(sample_rate=44100, num_frames=2645504, num_channels=1, bits_per_sample=24, encoding=PCM_S)\n"
     ]
    }
   ],
   "source": [
    "import soundfile as sf\n",
    "\n",
    "out_path = './output/'\n",
    "sample_rate = 44100\n",
    "save_tensor = torch.zeros(5167,512)\n",
    "with torch.no_grad():\n",
    "    for i, val_batch in enumerate(val_loader):\n",
    "        input_seq_batch = val_batch['input'].to(device)\n",
    "        #target_seq_batch = val_batch['target'].to(device)\n",
    "        predicted_output = model(input_seq_batch)\n",
    "        output_tmp = predicted_output.squeeze().detach().cpu()\n",
    "        #print(output_tmp.shape)\n",
    "        save_tensor[i,:] = output_tmp\n",
    "    \n",
    "    print(save_tensor.shape)\n",
    "    out_audio = save_audio(save_tensor)\n",
    "    print(out_audio.shape)\n",
    "    path = os.path.join(out_path, \"target_firnl_mlp_fir_preamph.wav\")\n",
    "    print(\"Exporting {}\".format(path))\n",
    "    sf.write(path, out_audio, sample_rate,'PCM_24')\n",
    "    #torchaudio.save(path, out_audio, sample_rate, encoding=\"PCM_S\", bits_per_sample=16)\n",
    "    inspect_file(path)\n",
    "    "
   ]
  }
 ],
 "metadata": {
  "kernelspec": {
   "display_name": "Python 3/anaconda",
   "language": "python",
   "name": "python3"
  },
  "language_info": {
   "codemirror_mode": {
    "name": "ipython",
    "version": 3
   },
   "file_extension": ".py",
   "mimetype": "text/x-python",
   "name": "python",
   "nbconvert_exporter": "python",
   "pygments_lexer": "ipython3",
   "version": "3.8.10"
  }
 },
 "nbformat": 4,
 "nbformat_minor": 4
}
