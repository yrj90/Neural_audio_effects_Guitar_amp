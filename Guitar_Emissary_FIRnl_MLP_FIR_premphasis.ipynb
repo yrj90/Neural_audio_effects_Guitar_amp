{
 "cells": [
  {
   "cell_type": "code",
   "execution_count": 1,
   "metadata": {},
   "outputs": [],
   "source": [
    "import torch\n",
    "import torchaudio\n",
    "import torch.nn as nn\n",
    "import torch.nn.functional as F\n",
    "import torchaudio.functional as AF\n",
    "import numpy as np\n",
    "import torch\n",
    "from torch.nn import Module, Parameter\n",
    "from torch import FloatTensor\n",
    "from scipy import signal\n",
    "import numpy as np\n",
    "from torchaudio import transforms\n",
    "import matplotlib.pyplot as plt\n",
    "import IPython.display as ipd\n",
    "from torch.utils.data import DataLoader\n",
    "from torch.utils.data import Dataset\n",
    "import os\n",
    "from scipy import signal\n",
    "from torchaudio.functional import lfilter\n"
   ]
  },
  {
   "cell_type": "code",
   "execution_count": 2,
   "metadata": {},
   "outputs": [
    {
     "name": "stdout",
     "output_type": "stream",
     "text": [
      "device= cpu\n"
     ]
    }
   ],
   "source": [
    "# Device configuration\n",
    "device = torch.device('cuda' if torch.cuda.is_available() else 'cpu')\n",
    "print(\"device=\", device) "
   ]
  },
  {
   "cell_type": "code",
   "execution_count": 4,
   "metadata": {},
   "outputs": [
    {
     "name": "stdout",
     "output_type": "stream",
     "text": [
      "44100\n"
     ]
    }
   ],
   "source": [
    "train_data_dir = './data'\n",
    "val_data_dir = './data'\n",
    "input_name = 'Guitar_L_input.wav'\n",
    "target_name = 'Guitar_L.wav'\n",
    "train_sig, sr = torchaudio.load(os.path.join(train_data_dir, input_name))\n",
    "train_target_sig, _ = torchaudio.load(os.path.join(train_data_dir, target_name))\n",
    "print(sr)"
   ]
  },
  {
   "cell_type": "code",
   "execution_count": 5,
   "metadata": {},
   "outputs": [],
   "source": [
    "train_input_seg = train_sig#[:,:44100*60]\n",
    "train_target_seg = train_target_sig#[:,:44100*60]"
   ]
  },
  {
   "cell_type": "code",
   "execution_count": 6,
   "metadata": {},
   "outputs": [
    {
     "data": {
      "text/plain": [
       "torch.Size([1, 4838807])"
      ]
     },
     "execution_count": 6,
     "metadata": {},
     "output_type": "execute_result"
    }
   ],
   "source": [
    "train_input_seg.shape"
   ]
  },
  {
   "cell_type": "markdown",
   "metadata": {},
   "source": [
    "# For Reproducibility"
   ]
  },
  {
   "cell_type": "code",
   "execution_count": 7,
   "metadata": {},
   "outputs": [
    {
     "data": {
      "text/plain": [
       "<torch._C.Generator at 0x2b06e6b57270>"
      ]
     },
     "execution_count": 7,
     "metadata": {},
     "output_type": "execute_result"
    }
   ],
   "source": [
    "torch.manual_seed(0)"
   ]
  },
  {
   "cell_type": "markdown",
   "metadata": {},
   "source": [
    "## Initialize Dataloader"
   ]
  },
  {
   "cell_type": "code",
   "execution_count": 8,
   "metadata": {},
   "outputs": [],
   "source": [
    "class DIIRDataSet(Dataset):\n",
    "    def __init__(self, input, target, sequence_length):\n",
    "        self.input = input\n",
    "        self.target = target\n",
    "        self._sequence_length = sequence_length\n",
    "        self.input_sequence = self.wrap_to_sequences(self.input, self._sequence_length)\n",
    "        self.target_sequence = self.wrap_to_sequences(self.target, self._sequence_length)\n",
    "        self._len = self.input_sequence.shape[0]\n",
    "\n",
    "    def __len__(self):\n",
    "        return self._len\n",
    "\n",
    "    def __getitem__(self, index):\n",
    "        return {'input': self.input_sequence[index, :, :]\n",
    "               ,'target': self.target_sequence[index, :, :]}\n",
    "\n",
    "    def wrap_to_sequences(self, data, sequence_length):\n",
    "        num_sequences = int(np.floor(data.shape[0] / sequence_length))\n",
    "        print(num_sequences)\n",
    "        truncated_data = data[0:(num_sequences * sequence_length)]\n",
    "        wrapped_data = truncated_data.reshape((num_sequences, sequence_length, 1))\n",
    "        wrapped_data = wrapped_data.permute(0,2,1)\n",
    "        print(wrapped_data.shape)\n",
    "        return np.float32(wrapped_data)\n"
   ]
  },
  {
   "cell_type": "code",
   "execution_count": 9,
   "metadata": {},
   "outputs": [],
   "source": [
    "train_input = train_input_seg#hp_train_sig#[:,:44100*60]\n",
    "train_target = train_target_seg#[:,:44100*60]"
   ]
  },
  {
   "cell_type": "code",
   "execution_count": 10,
   "metadata": {},
   "outputs": [
    {
     "data": {
      "text/plain": [
       "torch.Size([4838807])"
      ]
     },
     "execution_count": 10,
     "metadata": {},
     "output_type": "execute_result"
    }
   ],
   "source": [
    "train_input.squeeze(0).shape"
   ]
  },
  {
   "cell_type": "code",
   "execution_count": 11,
   "metadata": {},
   "outputs": [
    {
     "name": "stdout",
     "output_type": "stream",
     "text": [
      "9450\n",
      "torch.Size([9450, 1, 512])\n",
      "9450\n",
      "torch.Size([9450, 1, 512])\n"
     ]
    }
   ],
   "source": [
    "batch_size = 512#1024\n",
    "sequence_length = 512\n",
    "train_dataset=DIIRDataSet(train_input.squeeze(0), train_target.squeeze(0), sequence_length)\n",
    "loader = DataLoader(train_dataset, batch_size=batch_size, shuffle = False, pin_memory=True, drop_last=True) #? what does the shuffle really shuffles here?"
   ]
  },
  {
   "cell_type": "code",
   "execution_count": 12,
   "metadata": {},
   "outputs": [
    {
     "data": {
      "text/plain": [
       "18"
      ]
     },
     "execution_count": 12,
     "metadata": {},
     "output_type": "execute_result"
    }
   ],
   "source": [
    "len(loader)"
   ]
  },
  {
   "cell_type": "markdown",
   "metadata": {},
   "source": [
    "# Declare Model"
   ]
  },
  {
   "cell_type": "code",
   "execution_count": 13,
   "metadata": {},
   "outputs": [],
   "source": [
    "class FIRNN(Module):\n",
    "    def __init__(self, n_input=1, n_output=1, kernel_size=80, n_channel=32):\n",
    "        super(FIRNN, self).__init__()        \n",
    "        self.conv_kz = kernel_size\n",
    "        self.input_len = 512\n",
    "        self.conv1 = nn.Conv1d(n_input, n_channel, kernel_size=kernel_size, stride=1)\n",
    "        self.nonlinear = nn.Tanh()\n",
    "        self.bn1 = nn.BatchNorm1d(n_channel)\n",
    "\n",
    "        self.fc1 = nn.Conv1d(n_channel, n_channel*2, kernel_size=1) \n",
    "        self.fc2 = nn.Conv1d(n_channel*2, n_channel, kernel_size=1)\n",
    "        \n",
    "        self.conv2 = nn.Conv1d(n_channel, n_output, kernel_size=kernel_size, stride=1)\n",
    "        \n",
    "        self.mlp_layer = nn.Sequential(\n",
    "            self.fc1 ,\n",
    "            nn.Tanh(),\n",
    "            self.fc2,\n",
    "        )\n",
    "\n",
    "\n",
    "    def forward(self, x):\n",
    "        #print(x.shape)\n",
    "        bs = x.shape[0]\n",
    "        \n",
    "        x = F.pad(x, (self.conv_kz-1, 0)) #pad on the left side\n",
    "        x = self.conv1(x) \n",
    "        #print(x.shape)\n",
    "        x = self.nonlinear(self.bn1(x))\n",
    "        #print(x.shape)\n",
    "\n",
    "        #x = x.view(bs, -1)\n",
    "        x = self.mlp_layer(x)\n",
    "        #x = self.layers(x)\n",
    "        #print(x.shape)\n",
    "        \n",
    "        x = F.pad(x, (self.conv_kz-1, 0))\n",
    "        x = self.conv2(x)\n",
    "        #print(x.shape)\n",
    "\n",
    "        return x\n"
   ]
  },
  {
   "cell_type": "code",
   "execution_count": 14,
   "metadata": {},
   "outputs": [],
   "source": [
    "model = FIRNN(kernel_size=80, n_channel=32)"
   ]
  },
  {
   "cell_type": "markdown",
   "metadata": {},
   "source": [
    "## Define optimizer and criterion"
   ]
  },
  {
   "cell_type": "code",
   "execution_count": 15,
   "metadata": {},
   "outputs": [],
   "source": [
    "import torch.nn as nn\n",
    "from torch.optim import Adam\n",
    "\n",
    "n_epochs = 100\n",
    "lr = 1e-3\n",
    "\n",
    "optimizer = Adam(model.parameters(), lr=lr, betas=(0.9, 0.999), eps=1e-08, weight_decay=0, amsgrad=False)\n",
    "\n",
    "criterion = nn.MSELoss()"
   ]
  },
  {
   "cell_type": "markdown",
   "metadata": {},
   "source": [
    "# Define train loop"
   ]
  },
  {
   "cell_type": "code",
   "execution_count": 16,
   "metadata": {},
   "outputs": [],
   "source": [
    "def train(criterion, model, loader, optimizer):\n",
    "    model.train()\n",
    "    device = next(model.parameters()).device\n",
    "    total_loss = 0\n",
    "    \n",
    "    for ind, batch in enumerate(loader):\n",
    "        input_seq_batch = batch['input'].to(device)\n",
    "        target_seq_batch = batch['target'].to(device)\n",
    "        optimizer.zero_grad()\n",
    "        predicted_output = model(input_seq_batch)\n",
    "        \n",
    "        # premphasis filter\n",
    "        target_seq_batch_filt = lfilter(target_seq_batch, torch.Tensor([1,0]), torch.Tensor([1, -0.95]))\n",
    "        predicted_output_filt = lfilter(predicted_output, torch.Tensor([1,0]), torch.Tensor([1, -0.95]))\n",
    "        \n",
    "        loss = criterion(target_seq_batch_filt, predicted_output_filt)\n",
    "        loss.backward()\n",
    "        optimizer.step()\n",
    "        total_loss += loss.item()\n",
    "\n",
    "    total_loss /= len(loader)\n",
    "    return total_loss"
   ]
  },
  {
   "cell_type": "markdown",
   "metadata": {},
   "source": [
    "## Train!"
   ]
  },
  {
   "cell_type": "code",
   "execution_count": 17,
   "metadata": {},
   "outputs": [
    {
     "name": "stdout",
     "output_type": "stream",
     "text": [
      "Epoch 0 -- Loss 8.212390E-04\n",
      "Epoch 1 -- Loss 7.679658E-04\n",
      "Epoch 2 -- Loss 7.097212E-04\n",
      "Epoch 3 -- Loss 6.569840E-04\n",
      "Epoch 4 -- Loss 5.957788E-04\n",
      "Epoch 5 -- Loss 5.351592E-04\n",
      "Epoch 6 -- Loss 4.944821E-04\n",
      "Epoch 7 -- Loss 4.664656E-04\n",
      "Epoch 8 -- Loss 4.477490E-04\n",
      "Epoch 9 -- Loss 4.356510E-04\n",
      "Epoch 10 -- Loss 4.286145E-04\n",
      "Epoch 11 -- Loss 4.241956E-04\n",
      "Epoch 12 -- Loss 4.219019E-04\n",
      "Epoch 13 -- Loss 4.144812E-04\n",
      "Epoch 14 -- Loss 4.086551E-04\n",
      "Epoch 15 -- Loss 4.050037E-04\n",
      "Epoch 16 -- Loss 4.027422E-04\n",
      "Epoch 17 -- Loss 4.001103E-04\n",
      "Epoch 18 -- Loss 3.977583E-04\n",
      "Epoch 19 -- Loss 3.956360E-04\n",
      "Epoch 20 -- Loss 3.939017E-04\n",
      "Epoch 21 -- Loss 3.920654E-04\n",
      "Epoch 22 -- Loss 3.904783E-04\n",
      "Epoch 23 -- Loss 3.886953E-04\n",
      "Epoch 24 -- Loss 3.873504E-04\n",
      "Epoch 25 -- Loss 3.859169E-04\n",
      "Epoch 26 -- Loss 3.847702E-04\n",
      "Epoch 27 -- Loss 3.835811E-04\n",
      "Epoch 28 -- Loss 3.825607E-04\n",
      "Epoch 29 -- Loss 3.815633E-04\n",
      "Epoch 30 -- Loss 3.806655E-04\n",
      "Epoch 31 -- Loss 3.798516E-04\n",
      "Epoch 32 -- Loss 3.791406E-04\n",
      "Epoch 33 -- Loss 3.785857E-04\n",
      "Epoch 34 -- Loss 3.782226E-04\n",
      "Epoch 35 -- Loss 3.781874E-04\n",
      "Epoch 36 -- Loss 3.785883E-04\n",
      "Epoch 37 -- Loss 3.794784E-04\n",
      "Epoch 38 -- Loss 3.801382E-04\n",
      "Epoch 39 -- Loss 3.796007E-04\n",
      "Epoch 40 -- Loss 3.783056E-04\n",
      "Epoch 41 -- Loss 3.767862E-04\n",
      "Epoch 42 -- Loss 3.765008E-04\n",
      "Epoch 43 -- Loss 3.764422E-04\n",
      "Epoch 44 -- Loss 3.758423E-04\n",
      "Epoch 45 -- Loss 3.754929E-04\n",
      "Epoch 46 -- Loss 3.754198E-04\n",
      "Epoch 47 -- Loss 3.746469E-04\n",
      "Epoch 48 -- Loss 3.729806E-04\n",
      "Epoch 49 -- Loss 3.718266E-04\n",
      "Epoch 50 -- Loss 3.712246E-04\n",
      "Epoch 51 -- Loss 3.706994E-04\n",
      "Epoch 52 -- Loss 3.702113E-04\n",
      "Epoch 53 -- Loss 3.697725E-04\n",
      "Epoch 54 -- Loss 3.692955E-04\n",
      "Epoch 55 -- Loss 3.687362E-04\n",
      "Epoch 56 -- Loss 3.681325E-04\n",
      "Epoch 57 -- Loss 3.675683E-04\n",
      "Epoch 58 -- Loss 3.670398E-04\n",
      "Epoch 59 -- Loss 3.665360E-04\n",
      "Epoch 60 -- Loss 3.660307E-04\n",
      "Epoch 61 -- Loss 3.655345E-04\n",
      "Epoch 62 -- Loss 3.650579E-04\n",
      "Epoch 63 -- Loss 3.645986E-04\n",
      "Epoch 64 -- Loss 3.641436E-04\n",
      "Epoch 65 -- Loss 3.636983E-04\n",
      "Epoch 66 -- Loss 3.632631E-04\n",
      "Epoch 67 -- Loss 3.628472E-04\n",
      "Epoch 68 -- Loss 3.624500E-04\n",
      "Epoch 69 -- Loss 3.620765E-04\n",
      "Epoch 70 -- Loss 3.617191E-04\n",
      "Epoch 71 -- Loss 3.613513E-04\n",
      "Epoch 72 -- Loss 3.609089E-04\n",
      "Epoch 73 -- Loss 3.604122E-04\n",
      "Epoch 74 -- Loss 3.599510E-04\n",
      "Epoch 75 -- Loss 3.595471E-04\n",
      "Epoch 76 -- Loss 3.591584E-04\n",
      "Epoch 77 -- Loss 3.587624E-04\n",
      "Epoch 78 -- Loss 3.583645E-04\n",
      "Epoch 79 -- Loss 3.579981E-04\n",
      "Epoch 80 -- Loss 3.576593E-04\n",
      "Epoch 81 -- Loss 3.573189E-04\n",
      "Epoch 82 -- Loss 3.569244E-04\n",
      "Epoch 83 -- Loss 3.564750E-04\n",
      "Epoch 84 -- Loss 3.560458E-04\n",
      "Epoch 85 -- Loss 3.557297E-04\n",
      "Epoch 86 -- Loss 3.554336E-04\n",
      "Epoch 87 -- Loss 3.550697E-04\n",
      "Epoch 88 -- Loss 3.546590E-04\n",
      "Epoch 89 -- Loss 3.542987E-04\n",
      "Epoch 90 -- Loss 3.540127E-04\n",
      "Epoch 91 -- Loss 3.537649E-04\n",
      "Epoch 92 -- Loss 3.534012E-04\n",
      "Epoch 93 -- Loss 3.529605E-04\n",
      "Epoch 94 -- Loss 3.525910E-04\n",
      "Epoch 95 -- Loss 3.523474E-04\n",
      "Epoch 96 -- Loss 3.520439E-04\n",
      "Epoch 97 -- Loss 3.516979E-04\n",
      "Epoch 98 -- Loss 3.513167E-04\n",
      "Epoch 99 -- Loss 3.510238E-04\n",
      "model saved!\n"
     ]
    }
   ],
   "source": [
    "for epoch in range(n_epochs):\n",
    "    loss = train(criterion, model, loader, optimizer)\n",
    "    print(\"Epoch {} -- Loss {:3E}\".format(epoch, loss))\n",
    "\n",
    "save_path = os.path.join('./models/Emissary_firnl_mlp_fir_preamph_ep{}.pth'.format(n_epochs-1))\n",
    "torch.save(model.state_dict(), save_path)\n",
    "print(\"model saved!\")"
   ]
  },
  {
   "cell_type": "markdown",
   "metadata": {},
   "source": [
    "# Evaluate"
   ]
  },
  {
   "cell_type": "code",
   "execution_count": 18,
   "metadata": {},
   "outputs": [
    {
     "name": "stdout",
     "output_type": "stream",
     "text": [
      "9450\n",
      "torch.Size([9450, 1, 512])\n",
      "9450\n",
      "torch.Size([9450, 1, 512])\n"
     ]
    }
   ],
   "source": [
    "#val_batch_size = 128\n",
    "sequence_length = 512\n",
    "val_dataset=DIIRDataSet(train_input.squeeze(0), train_target.squeeze(0), sequence_length)\n",
    "val_loader = DataLoader(val_dataset, batch_size=1, shuffle = False, pin_memory=True, drop_last=True)"
   ]
  },
  {
   "cell_type": "code",
   "execution_count": 19,
   "metadata": {},
   "outputs": [],
   "source": [
    "def inspect_file(path):\n",
    "    print(\"-\" * 10)\n",
    "    print(\"Source:\", path)\n",
    "    print(\"-\" * 10)\n",
    "    print(f\" - File size: {os.path.getsize(path)} bytes\")\n",
    "    print(f\" - {torchaudio.info(path)}\")"
   ]
  },
  {
   "cell_type": "code",
   "execution_count": 20,
   "metadata": {},
   "outputs": [],
   "source": [
    "def save_audio(batch):\n",
    "    #1024,512,1\n",
    "    out_batch = batch.detach().cpu()\n",
    "    out_batch = out_batch.squeeze(-1).flatten()\n",
    "    print(out_batch.shape)\n",
    "    return out_batch"
   ]
  },
  {
   "cell_type": "code",
   "execution_count": 21,
   "metadata": {},
   "outputs": [
    {
     "name": "stdout",
     "output_type": "stream",
     "text": [
      "torch.Size([9450, 512])\n",
      "torch.Size([4838400])\n",
      "torch.Size([4838400])\n",
      "Exporting ./output/target_Emissary_firnl_mlp_fir_preamph.wav\n",
      "----------\n",
      "Source: ./output/target_Emissary_firnl_mlp_fir_preamph.wav\n",
      "----------\n",
      " - File size: 14515244 bytes\n",
      " - AudioMetaData(sample_rate=44100, num_frames=4838400, num_channels=1, bits_per_sample=24, encoding=PCM_S)\n"
     ]
    }
   ],
   "source": [
    "import soundfile as sf\n",
    "\n",
    "out_path = './output/'\n",
    "sample_rate = 44100\n",
    "save_tensor = torch.zeros(9450,512)\n",
    "with torch.no_grad():\n",
    "    for i, val_batch in enumerate(val_loader):\n",
    "        input_seq_batch = val_batch['input'].to(device)\n",
    "        #target_seq_batch = val_batch['target'].to(device)\n",
    "        predicted_output = model(input_seq_batch)\n",
    "        output_tmp = predicted_output.squeeze().detach().cpu()\n",
    "        #print(output_tmp.shape)\n",
    "        save_tensor[i,:] = output_tmp\n",
    "    \n",
    "    print(save_tensor.shape)\n",
    "    out_audio = save_audio(save_tensor)\n",
    "    print(out_audio.shape)\n",
    "    path = os.path.join(out_path, \"target_Emissary_firnl_mlp_fir_preamph.wav\")\n",
    "    print(\"Exporting {}\".format(path))\n",
    "    sf.write(path, out_audio, sample_rate,'PCM_24')\n",
    "    #torchaudio.save(path, out_audio, sample_rate, encoding=\"PCM_S\", bits_per_sample=16)\n",
    "    inspect_file(path)\n",
    "    "
   ]
  },
  {
   "cell_type": "code",
   "execution_count": null,
   "metadata": {},
   "outputs": [],
   "source": []
  },
  {
   "cell_type": "code",
   "execution_count": null,
   "metadata": {},
   "outputs": [],
   "source": []
  },
  {
   "cell_type": "code",
   "execution_count": 23,
   "metadata": {},
   "outputs": [
    {
     "name": "stdout",
     "output_type": "stream",
     "text": [
      "44100\n"
     ]
    }
   ],
   "source": [
    "train_data_dir = './data'\n",
    "input_name = 'input.wav'\n",
    "target_name = 'label.wav'\n",
    "val_sig, sr = torchaudio.load(os.path.join(train_data_dir, input_name))\n",
    "val_target_sig, _ = torchaudio.load(os.path.join(train_data_dir, target_name))\n",
    "print(sr)"
   ]
  },
  {
   "cell_type": "code",
   "execution_count": 31,
   "metadata": {},
   "outputs": [
    {
     "name": "stdout",
     "output_type": "stream",
     "text": [
      "890\n",
      "torch.Size([890, 1, 512])\n",
      "890\n",
      "torch.Size([890, 1, 512])\n"
     ]
    }
   ],
   "source": [
    "valid_dataset=DIIRDataSet(val_sig.squeeze(0), val_target_sig.squeeze(0), sequence_length)\n",
    "valid_loader = DataLoader(valid_dataset, batch_size=1, shuffle = False, pin_memory=True, drop_last=True)"
   ]
  },
  {
   "cell_type": "code",
   "execution_count": 32,
   "metadata": {},
   "outputs": [
    {
     "data": {
      "text/plain": [
       "890"
      ]
     },
     "execution_count": 32,
     "metadata": {},
     "output_type": "execute_result"
    }
   ],
   "source": [
    "len(valid_loader)"
   ]
  },
  {
   "cell_type": "code",
   "execution_count": 33,
   "metadata": {},
   "outputs": [
    {
     "name": "stdout",
     "output_type": "stream",
     "text": [
      "torch.Size([890, 512])\n",
      "torch.Size([455680])\n",
      "torch.Size([455680])\n",
      "Exporting ./output/target_valEngl_firnl_mlp_fir_preamph.wav\n",
      "----------\n",
      "Source: ./output/target_valEngl_firnl_mlp_fir_preamph.wav\n",
      "----------\n",
      " - File size: 1367084 bytes\n",
      " - AudioMetaData(sample_rate=44100, num_frames=455680, num_channels=1, bits_per_sample=24, encoding=PCM_S)\n"
     ]
    }
   ],
   "source": [
    "import soundfile as sf\n",
    "\n",
    "out_path = './output/'\n",
    "sample_rate = 44100\n",
    "val_save_tensor = torch.zeros(890,512)\n",
    "with torch.no_grad():\n",
    "    for i, val_batch in enumerate(valid_loader):\n",
    "        input_seq_batch = val_batch['input'].to(device)\n",
    "        #target_seq_batch = val_batch['target'].to(device)\n",
    "        predicted_output = model(input_seq_batch)\n",
    "        output_tmp = predicted_output.squeeze().detach().cpu()\n",
    "        #print(output_tmp.shape)\n",
    "        #print(i)\n",
    "        val_save_tensor[i,:] = output_tmp\n",
    "    \n",
    "    print(val_save_tensor.shape)\n",
    "    out_audio = save_audio(val_save_tensor)\n",
    "    print(out_audio.shape)\n",
    "    path = os.path.join(out_path, \"target_valEngl_firnl_mlp_fir_preamph.wav\")\n",
    "    print(\"Exporting {}\".format(path))\n",
    "    sf.write(path, out_audio, sample_rate,'PCM_24')\n",
    "    #torchaudio.save(path, out_audio, sample_rate, encoding=\"PCM_S\", bits_per_sample=16)\n",
    "    inspect_file(path)\n",
    "    "
   ]
  },
  {
   "cell_type": "markdown",
   "metadata": {},
   "source": [
    "### Pass original signal through a highpass biquad filter"
   ]
  },
  {
   "cell_type": "code",
   "execution_count": 51,
   "metadata": {},
   "outputs": [],
   "source": [
    "cut_off = 80\n",
    "hp_train_sig = AF.highpass_biquad(train_input_seg, sr ,cutoff_freq=cut_off)"
   ]
  },
  {
   "cell_type": "code",
   "execution_count": 52,
   "metadata": {
    "jupyter": {
     "source_hidden": true
    }
   },
   "outputs": [
    {
     "name": "stdout",
     "output_type": "stream",
     "text": [
      "Min of highpass_waveform: -0.3872985541820526\n",
      "Max of highpass_waveform: 0.5815960764884949\n",
      "Mean of highpass_waveform: -1.3928078033131897e-06\n"
     ]
    },
    {
     "data": {
      "text/plain": [
       "[<matplotlib.lines.Line2D at 0x2ab25d858370>]"
      ]
     },
     "execution_count": 52,
     "metadata": {},
     "output_type": "execute_result"
    },
    {
     "data": {
      "image/png": "[encoded data removed]",
      "text/plain": [
       "<Figure size 432x288 with 1 Axes>"
      ]
     },
     "metadata": {
      "needs_background": "light"
     },
     "output_type": "display_data"
    }
   ],
   "source": [
    "print(\"Min of highpass_waveform: {}\\nMax of highpass_waveform: {}\\nMean of highpass_waveform: {}\".format(hp_train_sig.min(), hp_train_sig.max(), hp_train_sig.mean()))\n",
    "plt.figure()\n",
    "plt.plot(hp_train_sig[:,:50].t().numpy())"
   ]
  }
 ],
 "metadata": {
  "kernelspec": {
   "display_name": "Python 3/anaconda",
   "language": "python",
   "name": "python3"
  },
  "language_info": {
   "codemirror_mode": {
    "name": "ipython",
    "version": 3
   },
   "file_extension": ".py",
   "mimetype": "text/x-python",
   "name": "python",
   "nbconvert_exporter": "python",
   "pygments_lexer": "ipython3",
   "version": "3.8.10"
  }
 },
 "nbformat": 4,
 "nbformat_minor": 4
}
